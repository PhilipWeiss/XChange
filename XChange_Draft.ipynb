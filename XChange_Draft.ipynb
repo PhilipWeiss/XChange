{
 "cells": [
  {
   "cell_type": "code",
   "execution_count": 3,
   "id": "3c1e4139",
   "metadata": {},
   "outputs": [],
   "source": [
    "import numpy as np\n",
    "import os"
   ]
  },
  {
   "cell_type": "markdown",
   "id": "0dcd21d9",
   "metadata": {},
   "source": [
    "## Output File Processing"
   ]
  },
  {
   "cell_type": "markdown",
   "id": "1b92ffba",
   "metadata": {},
   "source": [
    "### Reading in output file and sectioning off multiplicities and roots"
   ]
  },
  {
   "cell_type": "code",
   "execution_count": 5,
   "id": "8418aa72",
   "metadata": {},
   "outputs": [],
   "source": [
    "with open('orca.out', 'r') as f:\n",
    "    lines = f.readlines()\n",
    "    for i, line in enumerate(lines):\n",
    "        if 'QD-NEVPT2 Results' in line:\n",
    "            Results_Index = i\n",
    "        if 'QD-NEVPT2 TOTAL ENERGIES' in line:\n",
    "            TransitionEnergies_Index = i\n",
    "    DataLines = lines[Results_Index:TransitionEnergies_Index]\n",
    "\n",
    "for j, line in enumerate(DataLines):\n",
    "    if 'MULT 4' in line:\n",
    "        Quartet_Index = j\n",
    "    if 'MULT 2' in line:\n",
    "        QuartetEnd_Index = j-2\n",
    "        Doublet_Index = j\n",
    "        DoubletEnd_Index = len(DataLines)-1\n",
    "\n",
    "QuartetData = DataLines[Quartet_Index:QuartetEnd_Index]\n",
    "DoubletData = DataLines[Doublet_Index:DoubletEnd_Index]\n",
    "\n",
    "#Section off output file by roots\n",
    "for k, line in enumerate(QuartetData):\n",
    "    if 'ROOT = 0' in line:\n",
    "        QuartetRoot0_Index = k\n",
    "        QuartetRoot0Data = QuartetData[QuartetRoot0_Index:]\n",
    "\n",
    "    if 'ROOT = 1' in line:\n",
    "        QuartetRoot0End_Index = k-2\n",
    "        QuartetRoot1_Index = k\n",
    "        QuartetRoot0Data = QuartetData[QuartetRoot0_Index:QuartetRoot0End_Index]\n",
    "        QuartetRoot1Data = QuartetData[QuartetRoot1_Index:]\n",
    "        \n",
    "    if 'ROOT = 2' in line:\n",
    "        QuartetRoot1End_Index = k-2\n",
    "        QuartetRoot2_Index = k\n",
    "        QuartetRoot1Data = QuartetData[QuartetRoot1_Index:QuartetRoot1End_Index]\n",
    "        QuartetRoot2Data = QuartetData[QuartetRoot2_Index:]\n",
    "        \n",
    "\n",
    "for p, line in enumerate(DoubletData):\n",
    "    if 'ROOT = 0' in line:\n",
    "        DoubletRoot0_Index = p\n",
    "        DoubletRoot0Data = DoubletData[DoubletRoot0_Index:]\n",
    "    \n",
    "    if 'ROOT = 1' in line:\n",
    "        DoubletRoot0End_Index = p-2\n",
    "        DoubletRoot1_Index = p\n",
    "        DoubletRoot0Data = DoubletData[DoubletRoot0_Index:DoubletRoot0End_Index]\n",
    "        DoubletRoot1Data = DoubletData[DoubletRoot1_Index:] \n",
    "        \n",
    "                \n",
    "    if 'ROOT = 2' in line:\n",
    "        DoubletRoot1End_Index = p-2\n",
    "        DoubletRoot2_Index = p\n",
    "        DoubletRoot1Data = DoubletData[DoubletRoot1_Index:DoubletRoot1End_Index]\n",
    "        DoubletRoot2Data = DoubletData[DoubletRoot2_Index:]\n",
    "    \n",
    "    if 'ROOT = 3' in line:\n",
    "        DoubletRoot2End_Index = p-2\n",
    "        DoubletRoot3_Index = p\n",
    "        DoubletRoot2Data = DoubletData[DoubletRoot2_Index:DoubletRoot2End_Index]\n",
    "        DoubletRoot3Data = DoubletData[DoubletRoot3_Index:]\n",
    "    \n",
    "    if 'ROOT = 4' in line:\n",
    "        DoubletRoot3End_Index = p-2\n",
    "        DoubletRoot4_Index = p\n",
    "        DoubletRoot3Data = DoubletData[DoubletRoot3_Index:DoubletRoot3End_Index]\n",
    "        DoubletRoot4Data = DoubletData[DoubletRoot4_Index:]\n",
    "        "
   ]
  },
  {
   "cell_type": "markdown",
   "id": "70dfde17",
   "metadata": {},
   "source": [
    "### Project and normalize the basis"
   ]
  },
  {
   "cell_type": "code",
   "execution_count": 10,
   "id": "6d5a0196",
   "metadata": {},
   "outputs": [],
   "source": [
    "def NormalizeAndProject(RootData):\n",
    "    Coefficients = []\n",
    "    for i in RootData:\n",
    "        if '[' in i:\n",
    "            Coefficients.append(i)\n",
    "    Coefficients_Projected = []\n",
    "    Coefficients_NormProj = []\n",
    "    ProjCoeffValuesArray = []\n",
    "    NormProjCoeffValuesArray = []\n",
    "    for coeffline in Coefficients:\n",
    "        if 'duu' or 'udu' or 'uud' or 'uuu' in coeffline:\n",
    "            Coefficients_Projected.append(coeffline)\n",
    "            words = coeffline.split()\n",
    "            CoeffValue = float(words[1])\n",
    "            ProjCoeffValuesArray.append(CoeffValue)\n",
    "    for i in range(len(ProjCoeffValuesArray)):\n",
    "        NormProjCoeffValue = np.sqrt((np.square(ProjCoeffValuesArray[i]))/(np.sum(np.square(ProjCoeffValuesArray))))\n",
    "        NormProjCoeffValuesArray.append(NormProjCoeffValue)\n",
    "    for t,projcoeffline in enumerate(Coefficients_Projected):\n",
    "        words = projcoeffline.split()\n",
    "        spinID = words[0]\n",
    "        spinCoeff = NormProjCoeffValuesArray[t]\n",
    "        Coefficients_NormProj.append(F'[{spinID}] : {spinCoeff}')\n",
    "    return Coefficients, Coefficients_Projected, ProjCoeffValuesArray, NormProjCoeffValuesArray, Coefficients_NormProj "
   ]
  },
  {
   "cell_type": "markdown",
   "id": "67c42a0e",
   "metadata": {},
   "source": [
    "**Try with root with only neutral determinants**"
   ]
  },
  {
   "cell_type": "code",
   "execution_count": 11,
   "id": "7b1a33f6",
   "metadata": {},
   "outputs": [
    {
     "name": "stdout",
     "output_type": "stream",
     "text": [
      "['   [duu]     -0.816496570\\n', '   [udu]      0.408246839\\n', '   [uud]      0.408249731\\n']\n",
      "['   [duu]     -0.816496570\\n', '   [udu]      0.408246839\\n', '   [uud]      0.408249731\\n']\n",
      "[-0.81649657, 0.408246839, 0.408249731]\n",
      "[0.8164965809260187, 0.40824684446299003, 0.40824973646302876]\n",
      "['[[duu]] : 0.8164965809260187', '[[udu]] : 0.40824684446299003', '[[uud]] : 0.40824973646302876']\n"
     ]
    }
   ],
   "source": [
    "DR1Coefficients, DR1Coefficients_Projected, DR1ProjCoeffValuesArray, DR1NormProjCoeffValuesArray, DR1Coefficients_NormProj = NormalizeAndProject(DoubletRoot1Data)\n",
    "\n",
    "print(DR1Coefficients)\n",
    "print(DR1Coefficients_Projected)\n",
    "print(DR1ProjCoeffValuesArray)\n",
    "print(DR1NormProjCoeffValuesArray)\n",
    "print(DR1Coefficients_NormProj)"
   ]
  },
  {
   "cell_type": "markdown",
   "id": "0c8895e0",
   "metadata": {},
   "source": [
    "**Try with root with both ionic and neutral determinants**"
   ]
  },
  {
   "cell_type": "code",
   "execution_count": null,
   "id": "d07b003d",
   "metadata": {},
   "outputs": [],
   "source": []
  },
  {
   "cell_type": "markdown",
   "id": "3a6f277e",
   "metadata": {},
   "source": [
    "## Writing Input File"
   ]
  },
  {
   "cell_type": "markdown",
   "id": "f3ebe267",
   "metadata": {},
   "source": [
    "### Heading"
   ]
  },
  {
   "cell_type": "code",
   "execution_count": null,
   "id": "d7f1fc6c",
   "metadata": {},
   "outputs": [],
   "source": []
  }
 ],
 "metadata": {
  "kernelspec": {
   "display_name": "Python 3 (ipykernel)",
   "language": "python",
   "name": "python3"
  },
  "language_info": {
   "codemirror_mode": {
    "name": "ipython",
    "version": 3
   },
   "file_extension": ".py",
   "mimetype": "text/x-python",
   "name": "python",
   "nbconvert_exporter": "python",
   "pygments_lexer": "ipython3",
   "version": "3.9.7"
  }
 },
 "nbformat": 4,
 "nbformat_minor": 5
}
